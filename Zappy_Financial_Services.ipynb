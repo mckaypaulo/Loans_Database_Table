{
  "nbformat": 4,
  "nbformat_minor": 0,
  "metadata": {
    "colab": {
      "provenance": [],
      "authorship_tag": "ABX9TyOmiDwj7LFesPpOKkkB8xzf",
      "include_colab_link": true
    },
    "kernelspec": {
      "name": "python3",
      "display_name": "Python 3"
    },
    "language_info": {
      "name": "python"
    }
  },
  "cells": [
    {
      "cell_type": "markdown",
      "metadata": {
        "id": "view-in-github",
        "colab_type": "text"
      },
      "source": [
        "<a href=\"https://colab.research.google.com/github/mckaypaulo/Loans_Database_Table/blob/main/Zappy_Financial_Services.ipynb\" target=\"_parent\"><img src=\"https://colab.research.google.com/assets/colab-badge.svg\" alt=\"Open In Colab\"/></a>"
      ]
    },
    {
      "cell_type": "markdown",
      "source": [
        "**Task** - Constructing a Programming Solution to Zappy Financial Services Loan Approval Process. \n",
        "Steps to cover include:\n",
        "\n",
        "*   Load Data from current 'Zappy_Loans_Data,' as well past 12 months of 'Loans_Database_Table' - To a combined view\n",
        "*   Combine both sets of data into one data frame\n",
        "---\n",
        "*   Prepare and clean the loans data\n",
        "*   Split data into training and test data (80%-20% split)\n",
        "--- \n",
        "*   Use descritptive analysis on the training data (80%)\n",
        "*   Provide simple predictions of future loan applications (80%)\n",
        "---\n",
        "*   Apply the predictions to test data (20%) to see if they right outcomes are achieved (i.e approval/ rejection of loan applications follow the outcome previously completed manually\n",
        "---\n",
        "*   Conclusions of the training and test data"
      ],
      "metadata": {
        "id": "QD5hKxG0SLpw"
      }
    },
    {
      "cell_type": "code",
      "source": [
        "pip install tabula-Py"
      ],
      "metadata": {
        "colab": {
          "base_uri": "https://localhost:8080/"
        },
        "id": "22Ew7LUNthuZ",
        "outputId": "438728f6-00c8-4b58-bb64-fcf00d9bdd56"
      },
      "execution_count": 1,
      "outputs": [
        {
          "output_type": "stream",
          "name": "stdout",
          "text": [
            "Looking in indexes: https://pypi.org/simple, https://us-python.pkg.dev/colab-wheels/public/simple/\n",
            "Collecting tabula-Py\n",
            "  Downloading tabula_py-2.6.0-py3-none-any.whl (12.0 MB)\n",
            "\u001b[K     |████████████████████████████████| 12.0 MB 11.9 MB/s \n",
            "\u001b[?25hCollecting distro\n",
            "  Downloading distro-1.8.0-py3-none-any.whl (20 kB)\n",
            "Requirement already satisfied: pandas>=0.25.3 in /usr/local/lib/python3.8/dist-packages (from tabula-Py) (1.3.5)\n",
            "Requirement already satisfied: numpy in /usr/local/lib/python3.8/dist-packages (from tabula-Py) (1.21.6)\n",
            "Requirement already satisfied: python-dateutil>=2.7.3 in /usr/local/lib/python3.8/dist-packages (from pandas>=0.25.3->tabula-Py) (2.8.2)\n",
            "Requirement already satisfied: pytz>=2017.3 in /usr/local/lib/python3.8/dist-packages (from pandas>=0.25.3->tabula-Py) (2022.6)\n",
            "Requirement already satisfied: six>=1.5 in /usr/local/lib/python3.8/dist-packages (from python-dateutil>=2.7.3->pandas>=0.25.3->tabula-Py) (1.15.0)\n",
            "Installing collected packages: distro, tabula-Py\n",
            "Successfully installed distro-1.8.0 tabula-Py-2.6.0\n"
          ]
        }
      ]
    },
    {
      "cell_type": "markdown",
      "source": [
        "Loading Libraries and Folders - supporting Zappy Financial Services"
      ],
      "metadata": {
        "id": "WDlB4HqgA2jv"
      }
    },
    {
      "cell_type": "code",
      "source": [
        "# Import packages\n",
        "import pandas as pd\n",
        "import numpy as np\n",
        "from google.colab import drive\n",
        "import matplotlib.pyplot as plt\n",
        "import seaborn as sns\n",
        "import os\n",
        "import sample_data\n",
        "import tabula"
      ],
      "metadata": {
        "id": "Kpgajm-hYrma"
      },
      "execution_count": 2,
      "outputs": []
    },
    {
      "cell_type": "code",
      "source": [
        "from IPython.display import set_matplotlib_formats\n",
        "set_matplotlib_formats('pdf', 'svg')"
      ],
      "metadata": {
        "id": "EdBO9DsIMRDM"
      },
      "execution_count": 3,
      "outputs": []
    },
    {
      "cell_type": "markdown",
      "source": [
        "Loading Previous Year of Data - Loans_Database_Table.pdf"
      ],
      "metadata": {
        "id": "03k6LM4QA422"
      }
    },
    {
      "cell_type": "code",
      "source": [
        "#declare the path of your file\n",
        "file_path = (\"f\")\n",
        "#Convert your file\n",
        "df1 = tabula.read_pdf(\"Loans_Database_Table.pdf\", pages='all')\n",
        "df1"
      ],
      "metadata": {
        "colab": {
          "base_uri": "https://localhost:8080/",
          "height": 411
        },
        "id": "Xt_8jar_4oBB",
        "outputId": "549fec6a-5b16-49f5-82f5-d76b802feca1"
      },
      "execution_count": 7,
      "outputs": [
        {
          "output_type": "error",
          "ename": "FileNotFoundError",
          "evalue": "ignored",
          "traceback": [
            "\u001b[0;31m---------------------------------------------------------------------------\u001b[0m",
            "\u001b[0;31mFileNotFoundError\u001b[0m                         Traceback (most recent call last)",
            "\u001b[0;32m<ipython-input-7-b1d115d630e7>\u001b[0m in \u001b[0;36m<module>\u001b[0;34m\u001b[0m\n\u001b[1;32m      2\u001b[0m \u001b[0mfile_path\u001b[0m \u001b[0;34m=\u001b[0m \u001b[0;34m(\u001b[0m\u001b[0;34m\"https://github.com/mckaypaulo/Loans_Database_Table/blob/2fab765b14a367345bd52dac7a2f77d1a7549c87/Loans_Database_Table.pdf\"\u001b[0m\u001b[0;34m)\u001b[0m\u001b[0;34m\u001b[0m\u001b[0;34m\u001b[0m\u001b[0m\n\u001b[1;32m      3\u001b[0m \u001b[0;31m#Convert your file\u001b[0m\u001b[0;34m\u001b[0m\u001b[0;34m\u001b[0m\u001b[0;34m\u001b[0m\u001b[0m\n\u001b[0;32m----> 4\u001b[0;31m \u001b[0mdf1\u001b[0m \u001b[0;34m=\u001b[0m \u001b[0mtabula\u001b[0m\u001b[0;34m.\u001b[0m\u001b[0mread_pdf\u001b[0m\u001b[0;34m(\u001b[0m\u001b[0;34m\"Loans_Database_Table.pdf\"\u001b[0m\u001b[0;34m,\u001b[0m \u001b[0mpages\u001b[0m\u001b[0;34m=\u001b[0m\u001b[0;34m'all'\u001b[0m\u001b[0;34m)\u001b[0m\u001b[0;34m\u001b[0m\u001b[0;34m\u001b[0m\u001b[0m\n\u001b[0m\u001b[1;32m      5\u001b[0m \u001b[0mdf1\u001b[0m\u001b[0;34m\u001b[0m\u001b[0;34m\u001b[0m\u001b[0m\n",
            "\u001b[0;32m/usr/local/lib/python3.8/dist-packages/tabula/io.py\u001b[0m in \u001b[0;36mread_pdf\u001b[0;34m(input_path, output_format, encoding, java_options, pandas_options, multiple_tables, user_agent, use_raw_url, pages, guess, area, relative_area, lattice, stream, password, silent, columns, relative_columns, format, batch, output_path, options)\u001b[0m\n\u001b[1;32m    416\u001b[0m \u001b[0;34m\u001b[0m\u001b[0m\n\u001b[1;32m    417\u001b[0m     \u001b[0;32mif\u001b[0m \u001b[0;32mnot\u001b[0m \u001b[0mos\u001b[0m\u001b[0;34m.\u001b[0m\u001b[0mpath\u001b[0m\u001b[0;34m.\u001b[0m\u001b[0mexists\u001b[0m\u001b[0;34m(\u001b[0m\u001b[0mpath\u001b[0m\u001b[0;34m)\u001b[0m\u001b[0;34m:\u001b[0m\u001b[0;34m\u001b[0m\u001b[0;34m\u001b[0m\u001b[0m\n\u001b[0;32m--> 418\u001b[0;31m         \u001b[0;32mraise\u001b[0m \u001b[0mFileNotFoundError\u001b[0m\u001b[0;34m(\u001b[0m\u001b[0merrno\u001b[0m\u001b[0;34m.\u001b[0m\u001b[0mENOENT\u001b[0m\u001b[0;34m,\u001b[0m \u001b[0mos\u001b[0m\u001b[0;34m.\u001b[0m\u001b[0mstrerror\u001b[0m\u001b[0;34m(\u001b[0m\u001b[0merrno\u001b[0m\u001b[0;34m.\u001b[0m\u001b[0mENOENT\u001b[0m\u001b[0;34m)\u001b[0m\u001b[0;34m,\u001b[0m \u001b[0mpath\u001b[0m\u001b[0;34m)\u001b[0m\u001b[0;34m\u001b[0m\u001b[0;34m\u001b[0m\u001b[0m\n\u001b[0m\u001b[1;32m    419\u001b[0m \u001b[0;34m\u001b[0m\u001b[0m\n\u001b[1;32m    420\u001b[0m     \u001b[0;32mif\u001b[0m \u001b[0mos\u001b[0m\u001b[0;34m.\u001b[0m\u001b[0mpath\u001b[0m\u001b[0;34m.\u001b[0m\u001b[0mgetsize\u001b[0m\u001b[0;34m(\u001b[0m\u001b[0mpath\u001b[0m\u001b[0;34m)\u001b[0m \u001b[0;34m==\u001b[0m \u001b[0;36m0\u001b[0m\u001b[0;34m:\u001b[0m\u001b[0;34m\u001b[0m\u001b[0;34m\u001b[0m\u001b[0m\n",
            "\u001b[0;31mFileNotFoundError\u001b[0m: [Errno 2] No such file or directory: 'Loans_Database_Table.pdf'"
          ]
        }
      ]
    },
    {
      "cell_type": "markdown",
      "source": [
        "Loading Sales Team Data - Current Sales"
      ],
      "metadata": {
        "id": "ianCQLofR9to"
      }
    },
    {
      "cell_type": "code",
      "source": [
        "file_path = (\"/content/sample_data/Zappy_Loan_Data.xlsx\")"
      ],
      "metadata": {
        "id": "ZPFnhQghGtG4"
      },
      "execution_count": null,
      "outputs": []
    },
    {
      "cell_type": "code",
      "source": [
        "#declare the path of your file\n",
        "file_path2 = (\"/content/sample_data/Zappy_Loan_Data.xlsx\")\n",
        "#Convert your file\n",
        "df2 = pd.read_excel(file_path2)\n",
        "df2"
      ],
      "metadata": {
        "id": "QKE-PdvFajtm"
      },
      "execution_count": null,
      "outputs": []
    },
    {
      "cell_type": "code",
      "source": [
        "len(df1)"
      ],
      "metadata": {
        "id": "EHF-mGMegXtZ"
      },
      "execution_count": null,
      "outputs": []
    },
    {
      "cell_type": "code",
      "source": [
        "#add df1+df2 to create df\n",
        "df = np.append (df1,df2)\n",
        "df"
      ],
      "metadata": {
        "id": "W3IUN1Ch-DOY"
      },
      "execution_count": null,
      "outputs": []
    },
    {
      "cell_type": "code",
      "source": [
        "#check total columns of new df3\n",
        "len(df)"
      ],
      "metadata": {
        "id": "Ry05KKSWNp7D"
      },
      "execution_count": null,
      "outputs": []
    },
    {
      "cell_type": "code",
      "source": [
        "print(df)\n",
        "print(type(df))"
      ],
      "metadata": {
        "id": "UM-IwdrpsZi6"
      },
      "execution_count": null,
      "outputs": []
    },
    {
      "cell_type": "markdown",
      "source": [
        "Preparing and Cleaning the Loan Data"
      ],
      "metadata": {
        "id": "co7K3XBcA5DR"
      }
    },
    {
      "cell_type": "code",
      "source": [
        "#Checking for duplicates, keeping the first cell\n",
        "df.drop_duplicates(subset='Loan_ID', keep='first')"
      ],
      "metadata": {
        "id": "BDh96emcWLcO"
      },
      "execution_count": null,
      "outputs": []
    },
    {
      "cell_type": "markdown",
      "source": [
        "Checking for Missing Data"
      ],
      "metadata": {
        "id": "FmwiIfA2kPy4"
      }
    },
    {
      "cell_type": "markdown",
      "source": [
        "Split Data Into Training and Test Data (Using a 80/20 split)"
      ],
      "metadata": {
        "id": "cLgw__kdkIJx"
      }
    },
    {
      "cell_type": "markdown",
      "source": [
        "Descriptive Analysis on Current Loan Data"
      ],
      "metadata": {
        "id": "ChkCrdsBA5QG"
      }
    },
    {
      "cell_type": "markdown",
      "source": [
        "Prediction for future Loan Applications"
      ],
      "metadata": {
        "id": "2nZxzjTXA5ZT"
      }
    }
  ]
}